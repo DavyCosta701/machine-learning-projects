{
 "cells": [
  {
   "cell_type": "code",
   "execution_count": 12,
   "metadata": {},
   "outputs": [],
   "source": [
    "import torch\n",
    "from transformers import pipeline\n",
    "from audio_desilencer.audio_processor import AudioProcessor"
   ]
  },
  {
   "cell_type": "code",
   "execution_count": 19,
   "metadata": {},
   "outputs": [
    {
     "name": "stdout",
     "output_type": "stream",
     "text": [
      "Processing audio...\n",
      "Saved audio to processed_audios/ita_do_norte/interview_silent.mp3\n",
      "Saved audio to processed_audios/ita_do_norte/interview_non_silent.mp3\n",
      "Saved timeline data to processed_audios/ita_do_norte/silent_parts.txt\n",
      "Saved timeline data to processed_audios/ita_do_norte/non_silent_parts.txt\n",
      "Audio processing completed.\n",
      "Audio with silent parts saved to: processed_audios/ita_do_norte/interview_silent.mp3\n",
      "Audio with non-silent parts saved to: processed_audios/ita_do_norte/interview_non_silent.mp3\n",
      "Silent parts timeline saved to: processed_audios/ita_do_norte/silent_parts.txt\n",
      "Non-silent parts timeline saved to: processed_audios/ita_do_norte/non_silent_parts.txt\n"
     ]
    }
   ],
   "source": [
    "audio_processor = AudioProcessor(\"audios/20240711_080842_Canal_18_4529_-_Itacy_(Itacy_de_Sousa_Castro)_91983152212_25100_00001559_65bc8f662e0d0100.mp3\")\n",
    "audio_processor.process_audio(min_silence_len=300, threshold=-30, output_folder=\"processed_audios/ita_do_norte\")"
   ]
  },
  {
   "cell_type": "code",
   "execution_count": 18,
   "metadata": {},
   "outputs": [],
   "source": [
    "device = \"cuda:0\" if torch.cuda.is_available() else \"cpu\""
   ]
  },
  {
   "cell_type": "code",
   "execution_count": 6,
   "metadata": {},
   "outputs": [
    {
     "name": "stderr",
     "output_type": "stream",
     "text": [
      "Device set to use cuda:0\n"
     ]
    }
   ],
   "source": [
    "pipe = pipeline(\n",
    "  \"automatic-speech-recognition\",\n",
    "  model=\"openai/whisper-small\",\n",
    "  chunk_length_s=30,\n",
    "  device=device,\n",
    "  generate_kwargs={\"language\": \"pt\"}\n",
    ")"
   ]
  },
  {
   "cell_type": "code",
   "execution_count": 21,
   "metadata": {},
   "outputs": [
    {
     "name": "stderr",
     "output_type": "stream",
     "text": [
      "/home/davy-costa/Projects/ml_projects/speech-to-text-bp/.venv/lib/python3.11/site-packages/transformers/models/whisper/generation_whisper.py:512: FutureWarning: The input name `inputs` is deprecated. Please make sure to use `input_features` instead.\n",
      "  warnings.warn(\n"
     ]
    }
   ],
   "source": [
    "data_sample = \"processed_audios/ita_do_norte/interview_non_silent.mp3\"\n",
    "\n",
    "prediction = pipe(data_sample, batch_size=2, )\n",
    "\n",
    "with open(\"itacyr.txt\", \"w\") as f:\n",
    "    f.write(prediction[\"text\"])"
   ]
  }
 ],
 "metadata": {
  "kernelspec": {
   "display_name": ".venv",
   "language": "python",
   "name": "python3"
  },
  "language_info": {
   "codemirror_mode": {
    "name": "ipython",
    "version": 3
   },
   "file_extension": ".py",
   "mimetype": "text/x-python",
   "name": "python",
   "nbconvert_exporter": "python",
   "pygments_lexer": "ipython3",
   "version": "3.11.9"
  }
 },
 "nbformat": 4,
 "nbformat_minor": 2
}
